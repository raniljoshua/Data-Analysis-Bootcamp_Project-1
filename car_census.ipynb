{
 "cells": [
  {
   "cell_type": "code",
   "execution_count": 1,
   "metadata": {},
   "outputs": [],
   "source": [
    "# Dependencies\n",
    "import requests\n",
    "import pandas as pd\n",
    "from census import Census\n"
   ]
  },
  {
   "cell_type": "code",
   "execution_count": 3,
   "metadata": {},
   "outputs": [
    {
     "name": "stdout",
     "output_type": "stream",
     "text": [
      "    year   make                        model    price\n",
      "0   2023  Honda                      Elevate  14530.0\n",
      "1   2023  Honda                            e  37140.0\n",
      "2   2023  Honda                    e Advance  37140.0\n",
      "3   2023  Honda              Pilot Elite AWD  52030.0\n",
      "4   2023  Honda   Pilot EX-L 8-Passenger AWD  42310.0\n",
      "5   2023  Honda   Pilot EX-L 8-Passenger 2WD  41950.0\n",
      "6   2023  Honda              Pilot Sport 4WD  40080.0\n",
      "7   2023  Honda                  City ZX CVT  19350.0\n",
      "8   2023  Honda                   City V CVT  16510.0\n",
      "9   2023  Honda        New City ZX Petrol MT  17880.0\n",
      "10  2023  Honda        New City VX Petrol MT  16400.0\n",
      "11  2023  Honda          City Hybrid eHEV ZX  24770.0\n",
      "12  2023  Honda           City Hybrid eHEV V  22970.0\n",
      "13  2023  Honda         New City V Petrol MT  15030.0\n",
      "14  2023  Honda        New City SV Petrol MT  14010.0\n",
      "15  2023  Honda           City Hybrid ZX CVT  28520.0\n",
      "16  2023  Honda            City Hybrid V CVT  26450.0\n",
      "17  2023  Honda                       City V  17500.0\n",
      "18  2023  Honda                      City SV  16260.0\n",
      "19  2023  Honda                  City Hybrid  26640.0\n",
      "20  2023  Honda                   HR-V VTi-S  28230.0\n",
      "21  2023  Honda                     HR-V VTi  27470.0\n",
      "22  2023  Honda                    Accord EX  29610.0\n",
      "23  2023  Honda  Civic Type R Touring Manual  43290.0\n",
      "24  2023  Honda                Passport EX-L  41100.0\n",
      "25  2023  Honda               Pilot EX-L AWD  42310.0\n",
      "26  2023  Honda                CR-V EX-L AWD  35260.0\n",
      "27  2023  Honda                  CR-V EX AWD  32610.0\n",
      "28  2023  Honda        CR-V Hybrid Sport AWD  33950.0\n",
      "29  2023  Honda         Civic Type R Touring  42890.0\n",
      "30  2023  Honda            Civic Sport Sedan  24650.0\n",
      "31  2023  Honda        Accord Hybrid Sport-L  33870.0\n",
      "32  2023  Honda                 Accord Sedan  28000.0\n",
      "33  2023  Honda                         ZR-V  25000.0\n"
     ]
    }
   ],
   "source": [
    "car_prices_csv = \"prices_clean.csv\"\n",
    "car_prices_df = pd.read_csv(car_prices_csv)\n",
    "# car_prices_df.head()\n",
    "# print(car_prices_df.count())\n",
    "car_makes = car_prices_df[\"make\"].unique()\n",
    "# print(car_makes)\n",
    "honda_df = car_prices_df.loc[car_prices_df[\"make\"]==car_makes[0]]\n",
    "print(honda_df)\n",
    "honda_most_exp = honda_df.loc[honda_df[\"price\"] == honda_df[\"price\"].max()]\n",
    "honda_least_exp = honda_df.loc[honda_df[\"price\"] == honda_df[\"price\"].min()]\n",
    "# print(honda_least_exp[\"model\"].iloc[0])\n",
    "# print(honda_most_exp)\n",
    "# print(honda_least_exp)"
   ]
  },
  {
   "cell_type": "code",
   "execution_count": 4,
   "metadata": {},
   "outputs": [
    {
     "data": {
      "text/plain": [
       "369.52351194957026"
      ]
     },
     "execution_count": 4,
     "metadata": {},
     "output_type": "execute_result"
    }
   ],
   "source": [
    "def monthly_pay(p,r,n):\n",
    "    # p = Principal\n",
    "    # r = Interest rate\n",
    "    # n = Loan term (months)\n",
    "    return (p/((pow(1+r,n)-1)/(r*pow(1+r,n))))\n",
    "\n",
    "# Assume 72 month (6-year) car loan term\n",
    "# Assume 9.09% APR (Estimate based on credit rating 660-719)\n",
    "\n",
    "# Principal\n",
    "p = 20500\n",
    "# Interest rate\n",
    "r = 0.09/12\n",
    "# Loan term (months)\n",
    "n = 72\n",
    "monthly_payment = monthly_pay(p,r,n)\n",
    "monthly_payment"
   ]
  },
  {
   "cell_type": "code",
   "execution_count": 6,
   "metadata": {},
   "outputs": [
    {
     "name": "stdout",
     "output_type": "stream",
     "text": [
      "541.6666666666667\n"
     ]
    }
   ],
   "source": [
    "# Assume average annual_income: $65k\n",
    "annual_income = 65000\n",
    "monthly_income = annual_income/12\n",
    "monthly_payment_budget = monthly_income*0.1\n",
    "print(monthly_payment_budget)\n",
    "\n"
   ]
  },
  {
   "cell_type": "code",
   "execution_count": null,
   "metadata": {},
   "outputs": [],
   "source": []
  }
 ],
 "metadata": {
  "kernelspec": {
   "display_name": "dev",
   "language": "python",
   "name": "python3"
  },
  "language_info": {
   "codemirror_mode": {
    "name": "ipython",
    "version": 3
   },
   "file_extension": ".py",
   "mimetype": "text/x-python",
   "name": "python",
   "nbconvert_exporter": "python",
   "pygments_lexer": "ipython3",
   "version": "3.10.13"
  }
 },
 "nbformat": 4,
 "nbformat_minor": 2
}
